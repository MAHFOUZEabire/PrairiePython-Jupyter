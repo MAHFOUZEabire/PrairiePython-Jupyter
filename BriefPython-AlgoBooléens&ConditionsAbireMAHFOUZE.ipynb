{
 "cells": [
  {
   "cell_type": "markdown",
   "metadata": {},
   "source": [
    "# Booléens et les Conditions"
   ]
  },
  {
   "cell_type": "markdown",
   "metadata": {},
   "source": [
    "\n",
    "Python a un type de variable appelé bool. Il a deux valeurs possibles: True (1) ou False (0)."
   ]
  },
  {
   "cell_type": "code",
   "execution_count": null,
   "metadata": {},
   "outputs": [],
   "source": [
    "x = True\n",
    "print(x)\n",
    "print(type(x))"
   ]
  },
  {
   "cell_type": "markdown",
   "metadata": {},
   "source": [
    "Plutôt que de mettre True ou False directement dans notre code, nous obtenons généralement des valeurs booléennes des opérateurs booléens. Ce sont des opérateurs qui répondent oui / non aux questions. Nous allons passer en revue certains de ces opérateurs ci-dessous."
   ]
  },
  {
   "cell_type": "markdown",
   "metadata": {},
   "source": [
    "a == b\ta égale b\n",
    "\n",
    "a != b\ta différent de b\n",
    "\n",
    "a < b\ta inférieur à b\t\t\n",
    "\n",
    "a > b\ta supérieur à b\n",
    "\n",
    "a <= b\ta inférieur ou egal à b\t\t\n",
    "\n",
    "a >= b\ta supérieur ou égal à b"
   ]
  },
  {
   "cell_type": "code",
   "execution_count": 37,
   "metadata": {},
   "outputs": [
    {
     "name": "stdout",
     "output_type": "stream",
     "text": [
      "Est-ce qu'une personne de 5 ans doit porter un masque ? False\n",
      "Est-ce qu'une personne de 11 ans doit porter un masque ? True\n"
     ]
    }
   ],
   "source": [
    "#voici un exemple dans une fonction\n",
    "def doit_mettre_un_masque(age):\n",
    "    \"\"\"Est-ce que la personne est assez agée pour devoir porter un masque\"\"\"\n",
    "    \n",
    "    return age >= 6\n",
    "\n",
    "print(\"Est-ce qu'une personne de 5 ans doit porter un masque ?\", doit_mettre_un_masque(5))\n",
    "print(\"Est-ce qu'une personne de 11 ans doit porter un masque ?\", doit_mettre_un_masque(11))"
   ]
  },
  {
   "cell_type": "markdown",
   "metadata": {},
   "source": [
    "Les comparaisons fonctionnent souvent comme attendu\n"
   ]
  },
  {
   "cell_type": "code",
   "execution_count": null,
   "metadata": {},
   "outputs": [],
   "source": [
    "3.0 == 3"
   ]
  },
  {
   "cell_type": "markdown",
   "metadata": {},
   "source": [
    "mais pas tout le temps\n"
   ]
  },
  {
   "cell_type": "code",
   "execution_count": 4,
   "metadata": {},
   "outputs": [
    {
     "data": {
      "text/plain": [
       "False"
      ]
     },
     "execution_count": 4,
     "metadata": {},
     "output_type": "execute_result"
    }
   ],
   "source": [
    "'3' == 3"
   ]
  },
  {
   "cell_type": "markdown",
   "metadata": {},
   "source": [
    "\n",
    "Les opérateurs de comparaison peuvent être combinés avec les opérateurs arithmétiques que nous avons déjà vus pour exprimer une gamme pratiquement illimitée de tests mathématiques. Par exemple, nous pouvons vérifier si un nombre est impair en vérifiant que le reste de la division par 2 est égale à 1:"
   ]
  },
  {
   "cell_type": "code",
   "execution_count": 15,
   "metadata": {},
   "outputs": [],
   "source": [
    "#définissez une fonction est_impair(n) qui permet de tester si un nombre est impair\n",
    "def est_impair(x):\n",
    "    return x%2==1\n"
   ]
  },
  {
   "cell_type": "code",
   "execution_count": 16,
   "metadata": {},
   "outputs": [
    {
     "name": "stdout",
     "output_type": "stream",
     "text": [
      "est-ce que 100 est impair? False\n",
      "est-ce que 103 est impair? True\n"
     ]
    }
   ],
   "source": [
    "#testez la fonction \n",
    "\n",
    "print(\"est-ce que 100 est impair?\", est_impair(100))\n",
    "print(\"est-ce que 103 est impair?\", est_impair(103))"
   ]
  },
  {
   "cell_type": "markdown",
   "metadata": {},
   "source": [
    "\n",
    "N'oubliez pas d'utiliser == au lieu de = lors des comparaisons. Si vous écrivez n == 2, vous demandez si la valeur de n est égale à 2. Lorsque vous écrivez n = 2, vous modifiez la valeur de n."
   ]
  },
  {
   "cell_type": "markdown",
   "metadata": {},
   "source": [
    "# Combinaison de valeurs booléennes"
   ]
  },
  {
   "cell_type": "markdown",
   "metadata": {},
   "source": [
    "\n",
    "Vous pouvez combiner des valeurs booléennes en utilisant les concepts standard de \"et\", \"ou\" et \"non\". Les mots à utiliser sont: and, or, et not.\n",
    "\n",
    "Avec ceux-ci, nous pouvons rendre notre fonction peut_conduire_voiture (age) plus précise."
   ]
  },
  {
   "cell_type": "code",
   "execution_count": 2,
   "metadata": {},
   "outputs": [],
   "source": [
    "#modifiez la fonction doit_porter_un_masque(age) en ajoutant le paramètre booléen est_dans_une_ecole\n",
    "def doit_porter_un_masque(age,est_dans_une_ecole):\n",
    "    \"\"\"Est-ce que la personne est assez agée pour devoir porter un masque\"\"\"\n",
    "    return age >=6 and est_dans_une_ecole==True"
   ]
  },
  {
   "cell_type": "code",
   "execution_count": 3,
   "metadata": {},
   "outputs": [
    {
     "name": "stdout",
     "output_type": "stream",
     "text": [
      "Est-ce qu'une personne de 5 ans en dehors d'une école doit porter un masque ? False\n",
      "Est-ce qu'une personne de 6 ans dans une école doit porter un masque ? True\n",
      "Est-ce qu'une personne de 10 ans en dehors d'une école doit porter un masque ? False\n",
      "Est-ce qu'une personne de 11 ans en dehors d'une école doit porter un masque ? False\n"
     ]
    }
   ],
   "source": [
    "#testez\n",
    "print(\"Est-ce qu'une personne de 5 ans en dehors d'une école doit porter un masque ?\", doit_porter_un_masque(5,False))\n",
    "print(\"Est-ce qu'une personne de 6 ans dans une école doit porter un masque ?\", doit_porter_un_masque(6,True))\n",
    "print(\"Est-ce qu'une personne de 10 ans en dehors d'une école doit porter un masque ?\", doit_porter_un_masque(10,False))\n",
    "print(\"Est-ce qu'une personne de 11 ans en dehors d'une école doit porter un masque ?\", doit_porter_un_masque(11,False))"
   ]
  },
  {
   "cell_type": "markdown",
   "metadata": {},
   "source": [
    "pouvez-vous deviner la valeur de cette expression?"
   ]
  },
  {
   "cell_type": "code",
   "execution_count": 4,
   "metadata": {
    "scrolled": true
   },
   "outputs": [
    {
     "data": {
      "text/plain": [
       "True"
      ]
     },
     "execution_count": 4,
     "metadata": {},
     "output_type": "execute_result"
    }
   ],
   "source": [
    "True or True and False"
   ]
  },
  {
   "cell_type": "code",
   "execution_count": 6,
   "metadata": {},
   "outputs": [
    {
     "name": "stdout",
     "output_type": "stream",
     "text": [
      "True\n"
     ]
    }
   ],
   "source": [
    "#expliquez et testez l'expression ci-dessous en attribuant des valeurs de type bool pour tous à l'exception de pluie_intensite qui sera un int                                  \n",
    "avec_parapluie=True\n",
    "pluie_intensite=4\n",
    "avec_capuche=True\n",
    "est_jour_de_travail=True\n",
    "pret_pour_meteo = avec_parapluie or pluie_intensite < 5 and avec_capuche or not pluie_intensite > 0 and est_jour_de_travail\n",
    "print(pret_pour_meteo)\n"
   ]
  },
  {
   "cell_type": "code",
   "execution_count": 17,
   "metadata": {},
   "outputs": [],
   "source": [
    "#corrigez ici l'expression ci-dessous car il y a un souci d'algorithmie"
   ]
  },
  {
   "cell_type": "markdown",
   "metadata": {},
   "source": [
    "# Les conditions\n"
   ]
  },
  {
   "cell_type": "markdown",
   "metadata": {},
   "source": [
    "\n",
    "Les booléens sont plus utiles lorsqu'ils sont combinés avec des instructions conditionnelles, en utilisant les mots-clés if, elif et else.\n",
    "\n",
    "Les instructions conditionnelles vous permettent de contrôler les éléments de code qui sont exécutés en fonction de la valeur d'une condition booléenne. Voici un exemple:"
   ]
  },
  {
   "cell_type": "code",
   "execution_count": null,
   "metadata": {},
   "outputs": [],
   "source": [
    "def inspect(x):\n",
    "    if x == 0:\n",
    "        print(x, \"est zero\")\n",
    "    elif x > 0:\n",
    "        print(x, \"est positif\")\n",
    "    elif x < 0:\n",
    "        print(x, \"est negatif\")\n",
    "    else:\n",
    "        print(x, \"je ne sais pas\")\n",
    "\n",
    "inspect(0)\n",
    "inspect(-15)\n"
   ]
  },
  {
   "cell_type": "markdown",
   "metadata": {},
   "source": [
    "Les mots clés if et else sont souvent utilisés dans d'autres languages; le mot-clé elif est plus spécifique à python , c'est une contraction de \"else if\". Dans ces clauses conditionnelles, les blocs elif et else sont facultatifs; en outre, vous pouvez inclure autant de déclarations elif que vous le souhaitez.\n",
    "\n",
    "Notez en particulier l'utilisation des deux-points (:) et des espaces pour désigner des blocs de code séparés. Ceci est similaire à ce qui se passe lorsque nous définissons une fonction - l'en-tête de fonction se termine par (:), et la ligne suivante est en retrait de 4 espaces. Toutes les lignes indentées suivantes appartiennent au corps de la fonction, jusqu'à ce que nous rencontrions une ligne non indentée, mettant fin à la définition de la fonction."
   ]
  },
  {
   "cell_type": "code",
   "execution_count": 7,
   "metadata": {},
   "outputs": [
    {
     "name": "stdout",
     "output_type": "stream",
     "text": [
      "Only printed when x is positive; x = 1\n",
      "Also only printed when x is positive; x = 1\n",
      "Always printed, regardless of x's value; x = 1\n",
      "Always printed, regardless of x's value; x = 0\n"
     ]
    }
   ],
   "source": [
    "def f(x):\n",
    "    if x > 0:\n",
    "        print(\"Only printed when x is positive; x =\", x)\n",
    "        print(\"Also only printed when x is positive; x =\", x)\n",
    "    print(\"Always printed, regardless of x's value; x =\", x)\n",
    "\n",
    "f(1)\n",
    "f(0)"
   ]
  },
  {
   "cell_type": "markdown",
   "metadata": {},
   "source": [
    "# Boolean conversion\n"
   ]
  },
  {
   "cell_type": "markdown",
   "metadata": {},
   "source": [
    "Nous avons vu int (), qui transforme les choses en entiers, et float (), qui transforme les choses en flottants, donc vous ne serez peut-être pas surpris d'entendre que Python a une fonction bool () qui transforme les choses en bools."
   ]
  },
  {
   "cell_type": "code",
   "execution_count": 8,
   "metadata": {},
   "outputs": [
    {
     "name": "stdout",
     "output_type": "stream",
     "text": [
      "True\n",
      "False\n",
      "True\n",
      "False\n"
     ]
    }
   ],
   "source": [
    "print (bool (1)) # tous les nombres sont traités comme vrais, sauf 0\n",
    "print (bool (0))\n",
    "print (bool (\"asf\")) # toutes les chaînes sont traitées comme vraies, sauf la chaîne vide \"\"\n",
    "print (bool (\"\"))\n",
    "# Séquences généralement vides (chaînes, listes et autres types que nous n'avons pas encore vus comme des listes et des tuples)"
   ]
  },
  {
   "cell_type": "markdown",
   "metadata": {},
   "source": [
    "Nous pouvons utiliser des objets non booléens dans conditions if où un booléen est attendu. Python les traitera implicitement comme leur valeur booléenne correspondante:"
   ]
  },
  {
   "cell_type": "code",
   "execution_count": 9,
   "metadata": {},
   "outputs": [
    {
     "name": "stdout",
     "output_type": "stream",
     "text": [
      "spam\n"
     ]
    }
   ],
   "source": [
    "if 0:\n",
    "    print(0)\n",
    "elif \"spam\":\n",
    "    print(\"spam\")"
   ]
  },
  {
   "cell_type": "markdown",
   "metadata": {},
   "source": [
    "# Exercices"
   ]
  },
  {
   "cell_type": "markdown",
   "metadata": {},
   "source": [
    "\n",
    "De nombreux langages de programmation ont une fonction \"sign\" intégrée. Ce n'est pas le cas de python, mais nous pouvons définir la nôtre!\n",
    "\n",
    "Dans la cellule ci-dessous, définissez une fonction appelée signe qui prend un argument numérique et renvoie -1 si elle est négative, 1 si elle est positive et 0 si elle est 0. N'oubliez pas la docstring"
   ]
  },
  {
   "cell_type": "code",
   "execution_count": 11,
   "metadata": {},
   "outputs": [],
   "source": [
    "#Codez la fonction signe ici\n",
    "def sign(x):\n",
    "    \"\"\" fonction  numérique renvoie -1 si elle est négative, 1 si elle est positive et 0 si elle est 0\"\"\"\n",
    "    if x<1:\n",
    "         print(\"-1\")\n",
    "    elif x>1:\n",
    "         print(\"1\")\n",
    "    else :\n",
    "         print(\"0\")\n"
   ]
  },
  {
   "cell_type": "code",
   "execution_count": 12,
   "metadata": {},
   "outputs": [
    {
     "name": "stdout",
     "output_type": "stream",
     "text": [
      "1\n"
     ]
    }
   ],
   "source": [
    "#testez\n",
    "sign(6)"
   ]
  },
  {
   "cell_type": "markdown",
   "metadata": {},
   "source": [
    "Nous avons décidé d'ajouter la «journalisation» à notre fonction to_smash de l'exercice précédent."
   ]
  },
  {
   "cell_type": "code",
   "execution_count": 12,
   "metadata": {},
   "outputs": [],
   "source": [
    "def a_briser(total_bonbons,n_amis):\n",
    "    \"\"\"Retourne le nombre de bonbons restants après la distribution\n",
    "    de total_bonbons uniformément entre n_amis.\n",
    "    \n",
    "    >>> a_briser(91,3)\n",
    "    1\n",
    "    \"\"\"\n",
    "    \n",
    "    print(\"briser\", total_bonbons, \"bonbons\")\n",
    "    return total_bonbons % n_amis"
   ]
  },
  {
   "cell_type": "markdown",
   "metadata": {},
   "source": [
    "Que se passe-t-il pour total_bonbons = 1"
   ]
  },
  {
   "cell_type": "code",
   "execution_count": 43,
   "metadata": {},
   "outputs": [
    {
     "name": "stdout",
     "output_type": "stream",
     "text": [
      "briser 1 bonbons\n"
     ]
    },
    {
     "data": {
      "text/plain": [
       "1"
      ]
     },
     "execution_count": 43,
     "metadata": {},
     "output_type": "execute_result"
    }
   ],
   "source": [
    "#testez\n",
    "a_briser(1,3)"
   ]
  },
  {
   "cell_type": "code",
   "execution_count": null,
   "metadata": {},
   "outputs": [],
   "source": [
    "\n",
    "Ouh la grosse coquille!\n",
    "\n",
    "Modifiez la définition dans la cellule ci-dessous pour corriger la grammaire de notre print. "
   ]
  },
  {
   "cell_type": "code",
   "execution_count": 22,
   "metadata": {},
   "outputs": [],
   "source": [
    "#corriger le code\n",
    "def a_briser(total_bonbons,n_amis):\n",
    "    \"\"\"Retourne le nombre de bonbons restants après la distribution\n",
    "    de total_bonbons uniformément entre n_amis.\n",
    "    \n",
    "    >>> a_briser(91,3)\n",
    "    1\n",
    "    \"\"\"\n",
    "   \n",
    "    print(\"a distribuer\", total_bonbons,\"bonbons, la reste après distribution:\" )\n",
    "    return total_bonbons % n_amis\n",
    " "
   ]
  },
  {
   "cell_type": "code",
   "execution_count": 23,
   "metadata": {},
   "outputs": [
    {
     "name": "stdout",
     "output_type": "stream",
     "text": [
      "a distribuer 90 bonbons, la reste après distribution:\n"
     ]
    },
    {
     "data": {
      "text/plain": [
       "0"
      ]
     },
     "execution_count": 23,
     "metadata": {},
     "output_type": "execute_result"
    }
   ],
   "source": [
    "a_briser(90,3)"
   ]
  },
  {
   "cell_type": "markdown",
   "metadata": {},
   "source": [
    "\n",
    "Plus haut, nous avons parlé de décider si nous sommes prêts pour la météo. J'ai dit que je suis à l'abri du temps d'aujourd'hui si ...\n",
    "\n",
    "J'ai un parapluie ...\n",
    "\n",
    "ou si la pluie n'est pas trop forte et que j'ai une capuche ...\n",
    "\n",
    "sinon je vais bien sauf s'il pleut et c'est une journée de travail\n",
    "\n",
    "La fonction ci-dessous utilise notre première tentative pour transformer cette logique en une expression Python. J'ai affirmé qu'il y avait un bug dans ce code. Peux-tu le trouver?\n",
    "\n",
    "Pour prouver que prepare_for_weather est bogué, proposez un ensemble d'entrées où:\n",
    "\n",
    "la fonction renvoie False (mais aurait dû renvoyer True), ou\n",
    "la fonction a renvoyé True (mais aurait dû retourner False).\n"
   ]
  },
  {
   "cell_type": "markdown",
   "metadata": {},
   "source": [
    "Le bug dans ce code, dans son dérnire parti, la variable est_jour_de_travail. Quand ce variable a la valeur False, il rendre pret_pour_meteo, actuellement c'est l'enversse."
   ]
  },
  {
   "cell_type": "code",
   "execution_count": 56,
   "metadata": {},
   "outputs": [],
   "source": [
    "pret_pour_meteo = avec_parapluie or pluie_intensite < 5 and avec_capuche or not pluie_level > 0 and est_jour_de_travail"
   ]
  },
  {
   "cell_type": "code",
   "execution_count": 73,
   "metadata": {},
   "outputs": [
    {
     "name": "stdout",
     "output_type": "stream",
     "text": [
      "False\n"
     ]
    }
   ],
   "source": [
    "def pret_pour_meteo(avec_parapluie, pluie_intensite, avec_capuche, est_jour_de_travail):\n",
    "    # Ne modifiez pas ce code. Notre objectif est simplement de trouver le bug, pas de le corriger!\n",
    "    return avec_parapluie or pluie_intensite < 5 and avec_capuche or not pluie_intensite > 0 and est_jour_de_travail\n",
    "\n",
    "# Modifiez les valeurs de ces entrées afin qu'elles représentent un cas où pret_pour_meteo\n",
    "# renvoie la mauvaise réponse.\n",
    "# Actuellement, la fonction pret_pour_meteo renvoie des mauvaise réponse dans 4 situations:\n",
    "# False ou (5 et False) et non (5 et False)=False\n",
    "# False ou (5 et True) et non (5 et False)=False\n",
    "# False ou (1 et False) et non (1 et False)=False\n",
    "# False ou (0 et False) et non (0 et False)=False\n",
    "# c'est le variable est_jour_de_travail, qui cause ce problème\n",
    "avec_parapluie = False\n",
    "pluie_intensite = 5\n",
    "avec_capuche = False\n",
    "est_jour_de_travail = False\n",
    "\n",
    "# Vérifiez ce que la fonction retourne étant donné les valeurs actuelles des variables ci-dessus\n",
    "actuel = pret_pour_meteo(avec_parapluie, pluie_intensite, avec_capuche, est_jour_de_travail)\n",
    "print(actuel)\n",
    "\n",
    "#test\n",
    "\n"
   ]
  },
  {
   "cell_type": "markdown",
   "metadata": {},
   "source": [
    "# Table de vérité"
   ]
  },
  {
   "cell_type": "code",
   "execution_count": 23,
   "metadata": {},
   "outputs": [],
   "source": [
    "def tableVerite():\n",
    "    table=\"\"\n",
    "    for avec_parapluie in (True,False):\n",
    "        for pluie_intensite in (0,1,5):\n",
    "            for avec_capuche in (True,False):\n",
    "                for est_jour_de_travail in (True,False):\n",
    "                    table+=f\"{avec_parapluie} ou ({pluie_intensite} et {avec_capuche}) et non ({pluie_intensite} et {est_jour_de_travail})={avec_parapluie or pluie_intensite<5 and avec_capuche or not pluie_intensite>0 and est_jour_de_travail}\"\n",
    "                    table += \"\\n\" # passage à la ligne\n",
    "    return table\n"
   ]
  },
  {
   "cell_type": "code",
   "execution_count": 24,
   "metadata": {},
   "outputs": [
    {
     "name": "stdout",
     "output_type": "stream",
     "text": [
      "True ou (0 et True) et non (0 et True)=True\n",
      "True ou (0 et True) et non (0 et False)=True\n",
      "True ou (0 et False) et non (0 et True)=True\n",
      "True ou (0 et False) et non (0 et False)=True\n",
      "True ou (1 et True) et non (1 et True)=True\n",
      "True ou (1 et True) et non (1 et False)=True\n",
      "True ou (1 et False) et non (1 et True)=True\n",
      "True ou (1 et False) et non (1 et False)=True\n",
      "True ou (5 et True) et non (5 et True)=True\n",
      "True ou (5 et True) et non (5 et False)=True\n",
      "True ou (5 et False) et non (5 et True)=True\n",
      "True ou (5 et False) et non (5 et False)=True\n",
      "False ou (0 et True) et non (0 et True)=True\n",
      "False ou (0 et True) et non (0 et False)=True\n",
      "False ou (0 et False) et non (0 et True)=True\n",
      "False ou (0 et False) et non (0 et False)=False\n",
      "False ou (1 et True) et non (1 et True)=True\n",
      "False ou (1 et True) et non (1 et False)=True\n",
      "False ou (1 et False) et non (1 et True)=False\n",
      "False ou (1 et False) et non (1 et False)=False\n",
      "False ou (5 et True) et non (5 et True)=False\n",
      "False ou (5 et True) et non (5 et False)=False\n",
      "False ou (5 et False) et non (5 et True)=False\n",
      "False ou (5 et False) et non (5 et False)=False\n",
      "\n"
     ]
    }
   ],
   "source": [
    "print(tableVerite())"
   ]
  },
  {
   "cell_type": "markdown",
   "metadata": {},
   "source": [
    "La fonction is_negative ci-dessous est implémentée correctement - elle retourne True si le nombre donné est négatif et False sinon.\n",
    "\n",
    "Cependant, elle est plus verbeuse qu'il ne devrait l'être. Nous pouvons réellement réduire le nombre de lignes de code dans cette fonction de 75% tout en conservant le même comportement.\n",
    "\n",
    "Pouvez-vous trouver un corps équivalent qui utilise une seule ligne de code et mettez-le dans la fonction concise_is_negative. "
   ]
  },
  {
   "cell_type": "code",
   "execution_count": 24,
   "metadata": {},
   "outputs": [],
   "source": [
    "def is_negative(number):\n",
    "    if number < 0:\n",
    "        return True\n",
    "    else:\n",
    "        return False\n",
    "\n",
    "def concise_is_negative(number):\n",
    "    pass # Your code goes here (try to keep it to one line!)\n",
    "    return number<0\n"
   ]
  },
  {
   "cell_type": "code",
   "execution_count": 75,
   "metadata": {},
   "outputs": [
    {
     "data": {
      "text/plain": [
       "True"
      ]
     },
     "execution_count": 75,
     "metadata": {},
     "output_type": "execute_result"
    }
   ],
   "source": [
    "concise_is_negative(-9)"
   ]
  },
  {
   "cell_type": "code",
   "execution_count": 27,
   "metadata": {},
   "outputs": [
    {
     "data": {
      "text/plain": [
       "False"
      ]
     },
     "execution_count": 27,
     "metadata": {},
     "output_type": "execute_result"
    }
   ],
   "source": [
    "concise_is_negative(6)"
   ]
  },
  {
   "cell_type": "markdown",
   "metadata": {},
   "source": [
    "Pour chacune des fonctions restantes, remplissez le corps pour correspondre à la description dans la docstring."
   ]
  },
  {
   "cell_type": "code",
   "execution_count": 42,
   "metadata": {},
   "outputs": [],
   "source": [
    "def veut_toutes_les_garnitures(salade, tomate, onion):\n",
    "    \"\"\"Indiquez si le client souhaite les 3 garnitures\n",
    "    \"\"\"\n",
    "    pass\n",
    "    if salade==\"oui\" and tomate==\"oui\" and onion==\"oui\":\n",
    "        print(\"le client souhaite les 3 garnitures\")\n",
    "    else:\n",
    "        print(\"le client non souhaite les 3 garnitures\")\n",
    "        \n",
    "    \n",
    "     \n",
    "# Check your answer\n"
   ]
  },
  {
   "cell_type": "code",
   "execution_count": 43,
   "metadata": {},
   "outputs": [
    {
     "name": "stdout",
     "output_type": "stream",
     "text": [
      "le client non souhaite les 3 garnitures\n",
      "le client non souhaite les 3 garnitures\n",
      "le client souhaite les 3 garnitures\n",
      "le client non souhaite les 3 garnitures\n"
     ]
    }
   ],
   "source": [
    "veut_toutes_les_garnitures(\"oui\",\"non\",\"oui\")\n",
    "veut_toutes_les_garnitures(\"oui\",\"oui\",\"non\")\n",
    "veut_toutes_les_garnitures(\"oui\",\"oui\",\"oui\")\n",
    "veut_toutes_les_garnitures(\"non\",\"non\",\"oui\")"
   ]
  },
  {
   "cell_type": "code",
   "execution_count": 44,
   "metadata": {},
   "outputs": [
    {
     "name": "stdout",
     "output_type": "stream",
     "text": [
      "le client veut un hot-dog ordinaire\n",
      "le client veut un hot-dog avec garniture\n",
      "le client veut un hot-dog ordinaire\n"
     ]
    }
   ],
   "source": [
    "def veut_un_hotdog_complet(ketchup, mustard, onion):\n",
    "    \"\"\"Indiquez si le client veut un hot-dog ordinaire sans garniture\n",
    "    \"\"\"\n",
    "    if onion==\"oui\":\n",
    "        print(\"le client veut un hot-dog avec garniture\")\n",
    "    elif ketchup==\"oui\" or mustard==\"oui\":\n",
    "        print(\"le client veut un hot-dog ordinaire\")\n",
    "    \n",
    "        \n",
    "# Check your answer\n",
    "veut_un_hotdog_complet(\"oui\",\"oui\",\"non\")\n",
    "veut_un_hotdog_complet(\"oui\",\"oui\",\"oui\")\n",
    "veut_un_hotdog_complet(\"oui\",\"non\",\"non\")"
   ]
  },
  {
   "cell_type": "code",
   "execution_count": 46,
   "metadata": {},
   "outputs": [
    {
     "name": "stdout",
     "output_type": "stream",
     "text": [
      "deux seuce!\n",
      "le client veut un hot-dog avec garniture\n",
      "le client souhaite une seul sauce\n",
      "deux seuce!\n"
     ]
    }
   ],
   "source": [
    "def seulement_une_sauce(ketchup, mustard, onion):\n",
    "    \"\"\"Indiquez si le client souhaite du ketchup ou de la moutarde, mais pas les deux.\n",
    "    (Vous connaissez peut-être cette opération sous le nom \"exclusif ou\")\n",
    "    \"\"\"\n",
    "    pass\n",
    "    if onion==\"oui\":\n",
    "        print(\"le client veut un hot-dog avec garniture\")\n",
    "    elif ketchup^mustard==True:\n",
    "        print(\"le client souhaite une seul sauce\")\n",
    "    else:\n",
    "        print(\"deux seuce!\")\n",
    "    \n",
    " # Check your answer\n",
    "seulement_une_sauce(True,True,\"non\")\n",
    "seulement_une_sauce(True,True,\"oui\")\n",
    "seulement_une_sauce(True,False,\"non\")\n",
    "seulement_une_sauce(True,True,\"non\")"
   ]
  },
  {
   "cell_type": "markdown",
   "metadata": {},
   "source": [
    "Nous avons vu que l'appel de `bool ()` sur un entier renvoie `False` s'il est égal à 0 et` True` sinon. Que se passe-t-il si nous appelons `int ()` sur un bool? Essayez-le dans la cellule ci-dessous.\n",
    "\n"
   ]
  },
  {
   "cell_type": "code",
   "execution_count": 59,
   "metadata": {},
   "outputs": [
    {
     "data": {
      "text/plain": [
       "1"
      ]
     },
     "execution_count": 59,
     "metadata": {},
     "output_type": "execute_result"
    }
   ],
   "source": [
    "# int() sur un bool\n",
    "int(False)\n",
    "int(True)"
   ]
  },
  {
   "cell_type": "markdown",
   "metadata": {},
   "source": [
    "Pouvez-vous en profiter pour écrire une fonction succincte qui correspond à la phrase  \"le client veut-il exactement une garniture?\"?"
   ]
  },
  {
   "cell_type": "code",
   "execution_count": 76,
   "metadata": {},
   "outputs": [
    {
     "data": {
      "text/plain": [
       "True"
      ]
     },
     "execution_count": 76,
     "metadata": {},
     "output_type": "execute_result"
    }
   ],
   "source": [
    "def exactly_one_topping(ketchup, mustard, onion):\n",
    "    \"\"\"Indiquez si le client souhaite exactement l'une des trois garnitures disponibles\n",
    "    sur leur hot dog.\n",
    "    \"\"\"\n",
    "    pass\n",
    "   \n",
    "    return ketchup^mustard^onion==int(True)\n",
    "\n",
    "\n",
    "\n",
    "# Check your answer\n",
    "exactly_one_topping(1,0,0)\n",
    "        "
   ]
  },
  {
   "cell_type": "markdown",
   "metadata": {},
   "source": [
    "TP"
   ]
  },
  {
   "cell_type": "markdown",
   "metadata": {},
   "source": [
    "Sujet\n",
    "\n",
    "Le but de notre programme est de déterminer si une année saisie par l'utilisateur est bissextile. Il s'agit d'un sujet très prisé des enseignants en informatique quand il s'agit d'expliquer les conditions. Mille pardons, donc, à ceux qui ont déjà fait cet exercice dans un autre langage mais je trouve que ce petit programme reprend assez de thèmes abordés dans ce chapitre pour être réellement intéressant.\n",
    "\n",
    "Je vous rappelle les règles qui déterminent si une année est bissextile ou non (vous allez peut-être même apprendre des choses que le commun des mortels ignore).\n",
    "\n",
    "Une année est dite bissextile si c'est un multiple de 4, sauf si c'est un multiple de 100. Toutefois, elle est considérée comme bissextile si c'est un multiple de 400. Je développe :\n",
    "\n",
    "Si une année n'est pas multiple de 4, on s'arrête là, elle n'est pas bissextile.\n",
    "\n",
    "Si elle est multiple de 4, on regarde si elle est multiple de 100.\n",
    "\n",
    "    Si c'est le cas, on regarde si elle est multiple de 400.\n",
    "\n",
    "        Si c'est le cas, l'année est bissextile.\n",
    "\n",
    "        Sinon, elle n'est pas bissextile.\n",
    "\n",
    "    Sinon, elle est bissextile."
   ]
  },
  {
   "cell_type": "markdown",
   "metadata": {},
   "source": [
    "Solution ou résolution\n",
    "\n",
    "\n",
    "Voilà. Le problème est posé clairement (sinon relisez attentivement l'énoncé autant de fois que nécessaire), il faut maintenant réfléchir à sa résolution en termes de programmation. C'est une phase de transition assez délicate de prime abord et je vous conseille de schématiser le problème, de prendre des notes sur les différentes étapes, sans pour l'instant penser au code. C'est une phase purement algorithmique, autrement dit, on réfléchit au programme sans réfléchir au code proprement dit.\n",
    "\n",
    "Vous aurez besoin, pour réaliser ce petit programme, de quelques indications qui sont réellement spécifiques à Python. Ne lisez donc ceci qu'après avoir cerné et clairement écrit le problème d'une façon plus algorithmique. Cela étant dit, si vous peinez à trouver une solution, ne vous y attardez pas. Cette phase de réflexion est assez difficile au début et, parfois il suffit d'un peu de pratique et d'explications pour comprendre l'essentiel.\n",
    "\n",
    "La fonctioninput()\n",
    "\n",
    "Tout d'abord, j'ai mentionné une année saisie par l'utilisateur. En effet, depuis tout à l'heure, nous testons des variables que nous déclarons nous-mêmes, avec une valeur précise. La condition est donc assez ridicule.\n",
    "\n",
    "input()est une fonction qui va, pour nous, caractériser nos premières interactions avec l'utilisateur : le programme réagira différemment en fonction du nombre saisi par l'utilisateur.\n",
    "\n",
    "input()accepte un paramètre facultatif : le message à afficher à l'utilisateur. Cette instruction interrompt le programme et attend que l'utilisateur saisisse ce qu'il veut puis appuie sur Entrée. À cet instant, la fonction renvoie ce que l'utilisateur a saisi. Il faut donc piéger cette valeur dans une variable."
   ]
  },
  {
   "cell_type": "code",
   "execution_count": 9,
   "metadata": {},
   "outputs": [
    {
     "name": "stdin",
     "output_type": "stream",
     "text": [
      "Saisissez une année :  1920\n"
     ]
    }
   ],
   "source": [
    "# Test de la fonction input\n",
    "annee =int(input(\"Saisissez une année : \")) \n"
   ]
  },
  {
   "cell_type": "code",
   "execution_count": null,
   "metadata": {},
   "outputs": [],
   "source": [
    "quelle est le type de la variable annee"
   ]
  },
  {
   "cell_type": "code",
   "execution_count": 145,
   "metadata": {},
   "outputs": [
    {
     "data": {
      "text/plain": [
       "str"
      ]
     },
     "execution_count": 145,
     "metadata": {},
     "output_type": "execute_result"
    }
   ],
   "source": [
    "#déterminez le type de annee\n",
    "type(annee)"
   ]
  },
  {
   "cell_type": "code",
   "execution_count": null,
   "metadata": {},
   "outputs": [],
   "source": [
    "comment le transformer pour pouvoir le manipuler plus facilement ? "
   ]
  },
  {
   "cell_type": "code",
   "execution_count": 12,
   "metadata": {},
   "outputs": [],
   "source": [
    "Annee=int(annee)"
   ]
  },
  {
   "cell_type": "markdown",
   "metadata": {},
   "source": [
    "Test de multiples\n",
    "\n",
    "Certains pourraient également se demander comment tester si un nombre a est multiple d'un nombre b. Il suffit, en fait, de tester le reste de la division entière de b par a. Si ce reste est nul, alors a est un multiple de b."
   ]
  },
  {
   "cell_type": "code",
   "execution_count": 10,
   "metadata": {},
   "outputs": [
    {
     "name": "stdout",
     "output_type": "stream",
     "text": [
      "anneen n'est pas bissextile\n"
     ]
    }
   ],
   "source": [
    "# programme pour déterminer si une année saisie par l'utilisateur est bissextile, Let's go !\n",
    "if annee%4!=0: \n",
    "    print(\"anneen n'est pas bissextile\")\n",
    "elif annee%100==0 and annee%400==0:\n",
    "    print(\"annee bissextile\")\n",
    "else:\n",
    "    print(\"anneen n'est pas bissextile\")\n",
    "    "
   ]
  },
  {
   "cell_type": "code",
   "execution_count": null,
   "metadata": {},
   "outputs": [],
   "source": []
  }
 ],
 "metadata": {
  "kernelspec": {
   "display_name": "Python 3",
   "language": "python",
   "name": "python3"
  },
  "language_info": {
   "codemirror_mode": {
    "name": "ipython",
    "version": 3
   },
   "file_extension": ".py",
   "mimetype": "text/x-python",
   "name": "python",
   "nbconvert_exporter": "python",
   "pygments_lexer": "ipython3",
   "version": "3.8.6"
  }
 },
 "nbformat": 4,
 "nbformat_minor": 4
}
